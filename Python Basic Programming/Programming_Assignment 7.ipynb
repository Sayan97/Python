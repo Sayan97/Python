{
 "cells": [
  {
   "cell_type": "markdown",
   "metadata": {},
   "source": [
    "1. Write a Python Program to find sum of array?"
   ]
  },
  {
   "cell_type": "code",
   "execution_count": 2,
   "metadata": {},
   "outputs": [
    {
     "name": "stdout",
     "output_type": "stream",
     "text": [
      "Enter Length of array: 4\n",
      "Enter array elements: \n",
      "2\n",
      "3\n",
      "4\n",
      "5\n",
      "Sum :  14.0\n"
     ]
    }
   ],
   "source": [
    "n=int(input(\"Enter Length of array: \"))\n",
    "print(\"Enter array elements: \")\n",
    "a=[]\n",
    "s=0\n",
    "for i in range(0,n):\n",
    "    e=float(input())\n",
    "    a.append(e)\n",
    "for i in a:\n",
    "    s=s+i\n",
    "print(\"Sum : \",s)"
   ]
  },
  {
   "cell_type": "markdown",
   "metadata": {},
   "source": [
    "2. Write a Python Program to find largest element in an array?"
   ]
  },
  {
   "cell_type": "code",
   "execution_count": 3,
   "metadata": {},
   "outputs": [
    {
     "name": "stdout",
     "output_type": "stream",
     "text": [
      "Enter Length of array: 4\n",
      "Enter array elements: \n",
      "2\n",
      "5\n",
      "3\n",
      "1\n",
      "Max =  5.0\n"
     ]
    }
   ],
   "source": [
    "n=int(input(\"Enter Length of array: \"))\n",
    "print(\"Enter array elements: \")\n",
    "a=[]\n",
    "s=0\n",
    "for i in range(0,n):\n",
    "    e=float(input())\n",
    "    a.append(e)\n",
    "max=a[0]\n",
    "for i in a:\n",
    "    if i>max:\n",
    "        max=i\n",
    "print(\"Max = \",max)"
   ]
  },
  {
   "cell_type": "markdown",
   "metadata": {},
   "source": [
    "3. Write a Python Program for array rotation?"
   ]
  },
  {
   "cell_type": "code",
   "execution_count": 5,
   "metadata": {},
   "outputs": [
    {
     "name": "stdout",
     "output_type": "stream",
     "text": [
      "Enter Length of array: 3\n",
      "Enter array elements: \n",
      "1\n",
      "2\n",
      "3\n",
      "Array after left rotation is:  [3, 1, 2]\n"
     ]
    }
   ],
   "source": [
    "def rotateArray(a,d):\n",
    "    temp = []\n",
    "    n=len(a)\n",
    "    for i in range(d,n):\n",
    "        temp.append(a[i])\n",
    "    i = 0\n",
    "    for i in range (0,d):\n",
    "        temp.append(a[i])\n",
    "    a=temp.copy()\n",
    "    return a\n",
    " \n",
    "n=int(input(\"Enter Length of array: \"))\n",
    "print(\"Enter array elements: \")\n",
    "a=[]\n",
    "s=0\n",
    "for i in range(0,n):\n",
    "    e=int(input())\n",
    "    a.append(e)\n",
    "print(\"Array after left rotation is: \", end=' ')\n",
    "print(rotateArray(a, 2))"
   ]
  },
  {
   "cell_type": "markdown",
   "metadata": {},
   "source": [
    "4. Write a Python Program to Split the array and add the first part to the end?"
   ]
  },
  {
   "cell_type": "code",
   "execution_count": 8,
   "metadata": {},
   "outputs": [
    {
     "name": "stdout",
     "output_type": "stream",
     "text": [
      "Enter Length of array: 4\n",
      "Enter array elements: \n",
      "2\n",
      "7\n",
      "5\n",
      "9\n",
      "Enter position : 3\n",
      "9 2 7 5 "
     ]
    }
   ],
   "source": [
    "def splitArr(arr, n, k): \n",
    "    for i in range(0, k): \n",
    "        x = arr[0]\n",
    "        for j in range(0, n-1):\n",
    "            arr[j] = arr[j + 1]\n",
    "          \n",
    "        arr[n-1] = x\n",
    "          \n",
    "n=int(input(\"Enter Length of array: \"))\n",
    "print(\"Enter array elements: \")\n",
    "arr=[]\n",
    "for i in range(0,n):\n",
    "    e=int(input())\n",
    "    arr.append(e)\n",
    "n = len(arr)\n",
    "position = int(input(\"Enter position : \"))\n",
    "  \n",
    "splitArr(arr, n, position)\n",
    "  \n",
    "for i in range(0, n): \n",
    "    print(arr[i], end = ' ')\n",
    "  "
   ]
  },
  {
   "cell_type": "markdown",
   "metadata": {},
   "source": [
    "5. Write a Python Program to check if given array is Monotonic?"
   ]
  },
  {
   "cell_type": "code",
   "execution_count": 10,
   "metadata": {},
   "outputs": [
    {
     "name": "stdout",
     "output_type": "stream",
     "text": [
      "Enter Length of array: 4\n",
      "Enter array elements: \n",
      "5\n",
      "4\n",
      "3\n",
      "2\n",
      "True\n"
     ]
    }
   ],
   "source": [
    "def isMonotonic(A):\n",
    "  \n",
    "    return (all(A[i] <= A[i + 1] for i in range(len(A) - 1)) or\n",
    "            all(A[i] >= A[i + 1] for i in range(len(A) - 1)))\n",
    "  \n",
    "\n",
    "n=int(input(\"Enter Length of array: \"))\n",
    "print(\"Enter array elements: \")\n",
    "a=[]\n",
    "for i in range(0,n):\n",
    "    e=int(input())\n",
    "    a.append(e)\n",
    "  \n",
    "print(isMonotonic(a))"
   ]
  }
 ],
 "metadata": {
  "kernelspec": {
   "display_name": "Python 3",
   "language": "python",
   "name": "python3"
  },
  "language_info": {
   "codemirror_mode": {
    "name": "ipython",
    "version": 3
   },
   "file_extension": ".py",
   "mimetype": "text/x-python",
   "name": "python",
   "nbconvert_exporter": "python",
   "pygments_lexer": "ipython3",
   "version": "3.7.6"
  }
 },
 "nbformat": 4,
 "nbformat_minor": 4
}
