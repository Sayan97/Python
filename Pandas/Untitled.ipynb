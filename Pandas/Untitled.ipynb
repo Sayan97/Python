{
 "cells": [
  {
   "cell_type": "code",
   "execution_count": 1,
   "id": "e4eef9ad",
   "metadata": {},
   "outputs": [],
   "source": [
    "import tkinter\n",
    "tw = tkinter.Tk() #object of tkinter module\n",
    "tw.mainloop()"
   ]
  },
  {
   "cell_type": "code",
   "execution_count": null,
   "id": "44c1d402",
   "metadata": {},
   "outputs": [],
   "source": [
    "import tkinter\n",
    "root=tkinter.Tk()\n",
    "t.title('My GUI App')\n",
    "img=tkinter.PhotoImage(file=\"images.png\")\n",
    "tw.geometry(\"600x400\")"
   ]
  },
  {
   "cell_type": "code",
   "execution_count": 4,
   "id": "78180faa",
   "metadata": {},
   "outputs": [],
   "source": [
    "#button\n",
    "\n",
    "from tkinter import *\n",
    "root=Tk()\n",
    "root.geometry('200x300')\n",
    "b1=Button(root, text=\"Click Me\")\n",
    "b1.pack()\n",
    "root.mainloop()"
   ]
  },
  {
   "cell_type": "code",
   "execution_count": 6,
   "id": "88f857e7",
   "metadata": {},
   "outputs": [
    {
     "name": "stderr",
     "output_type": "stream",
     "text": [
      "Exception in Tkinter callback\n",
      "Traceback (most recent call last):\n",
      "  File \"C:\\Users\\Sayan Chatterjee\\anaconda3\\lib\\tkinter\\__init__.py\", line 1892, in __call__\n",
      "    return self.func(*args)\n",
      "  File \"C:\\Users\\SAYANC~1\\AppData\\Local\\Temp/ipykernel_6316/4176270929.py\", line 3, in showmsg\n",
      "    l1=tkinter.Label(\"Hello\")\n",
      "  File \"C:\\Users\\Sayan Chatterjee\\anaconda3\\lib\\tkinter\\__init__.py\", line 3148, in __init__\n",
      "    Widget.__init__(self, master, 'label', cnf, kw)\n",
      "  File \"C:\\Users\\Sayan Chatterjee\\anaconda3\\lib\\tkinter\\__init__.py\", line 2566, in __init__\n",
      "    BaseWidget._setup(self, master, cnf)\n",
      "  File \"C:\\Users\\Sayan Chatterjee\\anaconda3\\lib\\tkinter\\__init__.py\", line 2535, in _setup\n",
      "    self.tk = master.tk\n",
      "AttributeError: 'str' object has no attribute 'tk'\n",
      "Exception in Tkinter callback\n",
      "Traceback (most recent call last):\n",
      "  File \"C:\\Users\\Sayan Chatterjee\\anaconda3\\lib\\tkinter\\__init__.py\", line 1892, in __call__\n",
      "    return self.func(*args)\n",
      "  File \"C:\\Users\\SAYANC~1\\AppData\\Local\\Temp/ipykernel_6316/4176270929.py\", line 3, in showmsg\n",
      "    l1=tkinter.Label(\"Hello\")\n",
      "  File \"C:\\Users\\Sayan Chatterjee\\anaconda3\\lib\\tkinter\\__init__.py\", line 3148, in __init__\n",
      "    Widget.__init__(self, master, 'label', cnf, kw)\n",
      "  File \"C:\\Users\\Sayan Chatterjee\\anaconda3\\lib\\tkinter\\__init__.py\", line 2566, in __init__\n",
      "    BaseWidget._setup(self, master, cnf)\n",
      "  File \"C:\\Users\\Sayan Chatterjee\\anaconda3\\lib\\tkinter\\__init__.py\", line 2535, in _setup\n",
      "    self.tk = master.tk\n",
      "AttributeError: 'str' object has no attribute 'tk'\n"
     ]
    }
   ],
   "source": [
    "from tkinter import *\n",
    "def showmsg():\n",
    "    l1=tkinter.Label(\"Hello\")\n",
    "    l1.pack()\n",
    "\n",
    "root=Tk()\n",
    "root.geometry('200x300')\n",
    "b1=Button(root, text=\"Click Me\",command=showmsg)\n",
    "b1.pack()\n",
    "root.mainloop()"
   ]
  },
  {
   "cell_type": "code",
   "execution_count": null,
   "id": "32fe8e79",
   "metadata": {},
   "outputs": [],
   "source": []
  }
 ],
 "metadata": {
  "kernelspec": {
   "display_name": "Python 3 (ipykernel)",
   "language": "python",
   "name": "python3"
  },
  "language_info": {
   "codemirror_mode": {
    "name": "ipython",
    "version": 3
   },
   "file_extension": ".py",
   "mimetype": "text/x-python",
   "name": "python",
   "nbconvert_exporter": "python",
   "pygments_lexer": "ipython3",
   "version": "3.9.7"
  }
 },
 "nbformat": 4,
 "nbformat_minor": 5
}
