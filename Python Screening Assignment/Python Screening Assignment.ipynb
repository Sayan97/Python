{
 "cells": [
  {
   "cell_type": "markdown",
   "metadata": {},
   "source": [
    "## 1. Create a function in python to read the text file and replace specific content of the file."
   ]
  },
  {
   "cell_type": "code",
   "execution_count": 1,
   "metadata": {},
   "outputs": [],
   "source": [
    "def replace_content():\n",
    "    file=open('example.txt','r+')\n",
    "    data=file.read()\n",
    "    print('Original content : ',data)\n",
    "    data=data.replace('placement','screening')\n",
    "    print('Content after replacement : ',data)\n",
    "    file.close()"
   ]
  },
  {
   "cell_type": "code",
   "execution_count": 2,
   "metadata": {},
   "outputs": [
    {
     "name": "stdout",
     "output_type": "stream",
     "text": [
      "Original content :  This is a placement assignment\n",
      "Content after replacement :  This is a screening assignment\n"
     ]
    }
   ],
   "source": [
    "replace_content()"
   ]
  },
  {
   "cell_type": "markdown",
   "metadata": {},
   "source": [
    "## 2. Demonstrate use of abstract class, multiple inheritance and decorator in python using examples."
   ]
  },
  {
   "cell_type": "markdown",
   "metadata": {},
   "source": [
    "### Abstract Class"
   ]
  },
  {
   "cell_type": "code",
   "execution_count": 3,
   "metadata": {},
   "outputs": [],
   "source": [
    "from abc import ABC, abstractmethod\n",
    "class Figure(ABC):\n",
    "    @abstractmethod\n",
    "    def area(self):\n",
    "        pass"
   ]
  },
  {
   "cell_type": "code",
   "execution_count": 4,
   "metadata": {},
   "outputs": [],
   "source": [
    "class Triangle(Figure):\n",
    "    def __init__(self, base, height):\n",
    "        self.base = base\n",
    "        self.height = height\n",
    "    \n",
    "    # Override abstract method\n",
    "    def area(self):\n",
    "        return (0.5 * self.base * self.height)  "
   ]
  },
  {
   "cell_type": "code",
   "execution_count": 5,
   "metadata": {},
   "outputs": [],
   "source": [
    "class Circle(Figure):\n",
    "    def __init__(self, radius):\n",
    "        self.radius = radius\n",
    "    \n",
    "    # Override abstract method\n",
    "    def area(self):\n",
    "        return 3.14 * self.radius * self.radius  "
   ]
  },
  {
   "cell_type": "code",
   "execution_count": 6,
   "metadata": {},
   "outputs": [],
   "source": [
    "t = Triangle(10,20)\n",
    "c = Circle(10)"
   ]
  },
  {
   "cell_type": "code",
   "execution_count": 7,
   "metadata": {},
   "outputs": [
    {
     "name": "stdout",
     "output_type": "stream",
     "text": [
      "Area of a Triangle: 100.0\n",
      "Area of a Circle: 314.0\n"
     ]
    }
   ],
   "source": [
    "print('Area of a Triangle:', t.area())\n",
    "print('Area of a Circle:', c.area())"
   ]
  },
  {
   "cell_type": "markdown",
   "metadata": {},
   "source": [
    "### Multiple Inheritance"
   ]
  },
  {
   "cell_type": "code",
   "execution_count": 8,
   "metadata": {},
   "outputs": [],
   "source": [
    "# Base Class 1\n",
    "class Distance:        \n",
    "    def km_to_mile(self, km):\n",
    "        return (km * 0.621371)\n",
    "    \n",
    "    def mi_to_km(self, mi):\n",
    "        return (mi * 1.60934)"
   ]
  },
  {
   "cell_type": "code",
   "execution_count": 9,
   "metadata": {},
   "outputs": [
    {
     "name": "stdout",
     "output_type": "stream",
     "text": [
      "KM to Mile: 99.41936\n",
      "Mile to KM 104.6071\n"
     ]
    }
   ],
   "source": [
    "# Usage of Base Class 1\n",
    "d = Distance()\n",
    "print('KM to Mile:',d.km_to_mile(160))\n",
    "print('Mile to KM', d.mi_to_km(65))"
   ]
  },
  {
   "cell_type": "code",
   "execution_count": 10,
   "metadata": {},
   "outputs": [],
   "source": [
    "# Base Class 2\n",
    "class Temperature:\n",
    "    def cel_to_fer(self, cel):\n",
    "        return ((cel * 1.8) + 32)\n",
    "    \n",
    "    def fer_to_cel(self, fer):\n",
    "        return ((fer - 32) * 0.555)"
   ]
  },
  {
   "cell_type": "code",
   "execution_count": 11,
   "metadata": {},
   "outputs": [
    {
     "name": "stdout",
     "output_type": "stream",
     "text": [
      "Celsiuc to Fahrenheit: 212.0\n",
      "Fahrenheit to Celsiuc 99.9\n"
     ]
    }
   ],
   "source": [
    "# Usage of Base Class 2\n",
    "t = Temperature()\n",
    "print('Celsiuc to Fahrenheit:',t.cel_to_fer(100))\n",
    "print('Fahrenheit to Celsiuc', t.fer_to_cel(212))"
   ]
  },
  {
   "cell_type": "code",
   "execution_count": 12,
   "metadata": {},
   "outputs": [],
   "source": [
    "# Create a child class to implement both Base Class 1 and 2\n",
    "class Converter(Distance, Temperature):\n",
    "    pass"
   ]
  },
  {
   "cell_type": "code",
   "execution_count": 13,
   "metadata": {},
   "outputs": [
    {
     "name": "stdout",
     "output_type": "stream",
     "text": [
      "KM to Mile: 99.41936\n",
      "Mile to KM 104.6071\n",
      "Celsiuc to Fahrenheit: 212.0\n",
      "Fahrenheit to Celsiuc 99.9\n"
     ]
    }
   ],
   "source": [
    "# Usage of Child class using Multiple inheritance - All implementations are provided in a single class\n",
    "c = Converter()\n",
    "print('KM to Mile:',c.km_to_mile(160))\n",
    "print('Mile to KM', c.mi_to_km(65))\n",
    "print('Celsiuc to Fahrenheit:',c.cel_to_fer(100))\n",
    "print('Fahrenheit to Celsiuc', c.fer_to_cel(212))"
   ]
  },
  {
   "cell_type": "markdown",
   "metadata": {},
   "source": [
    "### Decorator"
   ]
  },
  {
   "cell_type": "code",
   "execution_count": 14,
   "metadata": {},
   "outputs": [],
   "source": [
    "def base_function():\n",
    "    print('Base function is called')"
   ]
  },
  {
   "cell_type": "code",
   "execution_count": 15,
   "metadata": {},
   "outputs": [
    {
     "name": "stdout",
     "output_type": "stream",
     "text": [
      "Base function is called\n"
     ]
    }
   ],
   "source": [
    "base_function()"
   ]
  },
  {
   "cell_type": "code",
   "execution_count": 16,
   "metadata": {},
   "outputs": [],
   "source": [
    "def decorator_function(func):\n",
    "    \n",
    "    def inner_function():\n",
    "        print('Base Function will be executed')\n",
    "        func()\n",
    "    \n",
    "    return inner_function"
   ]
  },
  {
   "cell_type": "code",
   "execution_count": 17,
   "metadata": {},
   "outputs": [],
   "source": [
    "base_function = decorator_function(base_function)"
   ]
  },
  {
   "cell_type": "code",
   "execution_count": 18,
   "metadata": {},
   "outputs": [
    {
     "name": "stdout",
     "output_type": "stream",
     "text": [
      "Base Function will be executed\n",
      "Base function is called\n"
     ]
    }
   ],
   "source": [
    "base_function()"
   ]
  },
  {
   "cell_type": "code",
   "execution_count": null,
   "metadata": {},
   "outputs": [],
   "source": []
  }
 ],
 "metadata": {
  "kernelspec": {
   "display_name": "Python 3",
   "language": "python",
   "name": "python3"
  },
  "language_info": {
   "codemirror_mode": {
    "name": "ipython",
    "version": 3
   },
   "file_extension": ".py",
   "mimetype": "text/x-python",
   "name": "python",
   "nbconvert_exporter": "python",
   "pygments_lexer": "ipython3",
   "version": "3.7.6"
  }
 },
 "nbformat": 4,
 "nbformat_minor": 4
}
