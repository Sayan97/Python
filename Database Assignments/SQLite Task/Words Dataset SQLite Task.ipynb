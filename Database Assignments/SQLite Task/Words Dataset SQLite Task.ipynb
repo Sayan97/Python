{
 "cells": [
  {
   "cell_type": "raw",
   "metadata": {},
   "source": [
    "Task for today : dataset - https://archive.ics.uci.edu/ml/datasets/Bag+of+Words\n",
    "\n",
    "q1 = try to find out a count of each and every word in a respective file return a list of tuple with word and its respective count\n",
    "sample example - [('sudh', 6 ) , ('kumar',3)]\n",
    "\n",
    "q2 = try to perform a reduce operation to get a count of all the word starting with same alphabet\n",
    "sample examle = [(a,56) , (b,34),...........]\n",
    "\n",
    "q3 = Try to filter out all the words from dataset .\n",
    ".001.abstract = abstract =.002 = delete\n",
    "\n",
    "q4 = create a tuple set of all the records avaialble in all the five file and then store it in sqllite DB .\n",
    "(aah,>=,354,fbdsf,wer)\n",
    "\n"
   ]
  },
  {
   "cell_type": "code",
   "execution_count": 1,
   "metadata": {},
   "outputs": [],
   "source": [
    "import logging"
   ]
  },
  {
   "cell_type": "code",
   "execution_count": 2,
   "metadata": {},
   "outputs": [],
   "source": [
    "logging.basicConfig(filename='words_logfile.log',\n",
    "                    filemode='a',\n",
    "                    level = logging.INFO,\n",
    "                    format='%(asctime)s %(levelname)s-%(message)s',\n",
    "                    datefmt='%Y-%m-%d %H:%M:%S'\n",
    "                    )\n",
    "\n",
    "logger=logging.getLogger()\n"
   ]
  },
  {
   "cell_type": "markdown",
   "metadata": {},
   "source": [
    "## Task 1 \n",
    "### q1 = try to find out a count of each and every word in a respective file return a list of tuple with word and its respective count\n",
    "### sample example - [('sudh', 6 ) , ('kumar',3)]"
   ]
  },
  {
   "cell_type": "code",
   "execution_count": 3,
   "metadata": {},
   "outputs": [],
   "source": [
    "def count_word(file_name):\n",
    "    logger.info(\"Enter Task 1 count_word module\")\n",
    "    words=[]\n",
    "    try:\n",
    "        f=open(file_name,'r')\n",
    "        for line in f:\n",
    "            line=line.strip()\n",
    "            words.append(line)\n",
    "    except Exception as e:\n",
    "        logger.error(\"Error in file reading : \",str(e))\n",
    "    else:\n",
    "        word_count=[]\n",
    "        unique_words=list(set(words))\n",
    "        unique_words.sort()\n",
    "        for i in unique_words:\n",
    "            word_count.append((i,words.count(i)))\n",
    "        logger.info(\"Task 1 done. Words counted for {0} records from {1} dataset\".format(str(len(words)),file_name))\n",
    "        f.close()\n",
    "        return word_count    "
   ]
  },
  {
   "cell_type": "code",
   "execution_count": 4,
   "metadata": {},
   "outputs": [],
   "source": [
    "data=count_word('vocab.kos.txt')"
   ]
  },
  {
   "cell_type": "code",
   "execution_count": 5,
   "metadata": {},
   "outputs": [
    {
     "data": {
      "text/plain": [
       "[('aarp', 1),\n",
       " ('abandon', 1),\n",
       " ('abandoned', 1),\n",
       " ('abandoning', 1),\n",
       " ('abb', 1),\n",
       " ('abc', 1),\n",
       " ('abcs', 1),\n",
       " ('abdullah', 1),\n",
       " ('ability', 1),\n",
       " ('aboard', 1),\n",
       " ('abortion', 1),\n",
       " ('abortions', 1),\n",
       " ('abraham', 1),\n",
       " ('abrams', 1),\n",
       " ('abroad', 1)]"
      ]
     },
     "execution_count": 5,
     "metadata": {},
     "output_type": "execute_result"
    }
   ],
   "source": [
    "data[:15]"
   ]
  },
  {
   "cell_type": "markdown",
   "metadata": {},
   "source": [
    "## Task 2\n",
    "### q2 = try to perform a reduce operation to get a count of all the word starting with same alphabet\n",
    "### sample examle = [(a,56) , (b,34),...........]"
   ]
  },
  {
   "cell_type": "code",
   "execution_count": 6,
   "metadata": {},
   "outputs": [],
   "source": [
    "def same_alphabet(file):\n",
    "    logger.info(\"Enter Task 2 same_alphabet module \")\n",
    "    alpha=[]\n",
    "    word=[]\n",
    "    try:\n",
    "        f=open(file,'r')\n",
    "        for i in f:\n",
    "            i=i.strip()\n",
    "            alpha.append(i[0])\n",
    "            word.append(i)\n",
    "    except Exception as e:\n",
    "        logger.error(\"Error in file reading : \",str(e))\n",
    "    else:\n",
    "        unique_alpha=list(set(alpha))\n",
    "        unique_alpha.sort()\n",
    "        alpha_count=[]\n",
    "        for i in unique_alpha:\n",
    "            count=0\n",
    "            for j in word:\n",
    "                if i==j[0]:\n",
    "                    count=count +1\n",
    "            alpha_count.append((i,count))\n",
    "        logger.info(\"Task 2 done. Words counted for {0} records from {1} dataset\".format(str(len(word)), file))\n",
    "        f.close()\n",
    "        return alpha_count\n",
    "            "
   ]
  },
  {
   "cell_type": "code",
   "execution_count": 7,
   "metadata": {},
   "outputs": [],
   "source": [
    "data=same_alphabet('vocab.kos.txt')"
   ]
  },
  {
   "cell_type": "code",
   "execution_count": 8,
   "metadata": {},
   "outputs": [
    {
     "data": {
      "text/plain": [
       "[('a', 492),\n",
       " ('b', 368),\n",
       " ('c', 666),\n",
       " ('d', 448),\n",
       " ('e', 294),\n",
       " ('f', 333),\n",
       " ('g', 195),\n",
       " ('h', 246),\n",
       " ('i', 269),\n",
       " ('j', 89),\n",
       " ('k', 70),\n",
       " ('l', 257),\n",
       " ('m', 344),\n",
       " ('n', 139),\n",
       " ('o', 175),\n",
       " ('p', 525),\n",
       " ('q', 30),\n",
       " ('r', 461),\n",
       " ('s', 742),\n",
       " ('t', 323),\n",
       " ('u', 105),\n",
       " ('v', 96),\n",
       " ('w', 205),\n",
       " ('y', 26),\n",
       " ('z', 8)]"
      ]
     },
     "execution_count": 8,
     "metadata": {},
     "output_type": "execute_result"
    }
   ],
   "source": [
    "data"
   ]
  },
  {
   "cell_type": "markdown",
   "metadata": {},
   "source": [
    "## Task 3\n",
    "### q3 = Try to filter out all the words from dataset . \n",
    "### .001.abstract = abstract ; .002 = delete"
   ]
  },
  {
   "cell_type": "code",
   "execution_count": 9,
   "metadata": {},
   "outputs": [],
   "source": [
    "def filter_word(file):\n",
    "    logger.info(\"Enter Task 4 filter_word module \")\n",
    "    words=[]\n",
    "    try:\n",
    "        f=open(file,mode='r',encoding=\"utf8\")\n",
    "        for row in f:\n",
    "            if row.isalpha()==True:\n",
    "                words.append(row)\n",
    "            else:\n",
    "                wd=\"\"\n",
    "                for char in row:\n",
    "                    if char.isalpha()==True:\n",
    "                        wd+=char\n",
    "                words.append(wd)\n",
    "    \n",
    "    except Exception as e:\n",
    "        logger.error(\"Error in reading file : \",str(e))\n",
    "        \n",
    "    else:\n",
    "        fil_words=[]\n",
    "        unique_words=list(set(words))\n",
    "        unique_words.sort()\n",
    "        for i in unique_words:\n",
    "            if len(i)>=0:\n",
    "                if len(i)>0:\n",
    "                    fil_words.append(i)\n",
    "                \n",
    "        logger.info(\"Task 3 done. Words counted for {0} records from {1} dataset\".format(str(len(words)),file))\n",
    "        f.close()\n",
    "        return fil_words"
   ]
  },
  {
   "cell_type": "code",
   "execution_count": 10,
   "metadata": {},
   "outputs": [],
   "source": [
    "data=filter_word('vocab.pubmed.txt')"
   ]
  },
  {
   "cell_type": "code",
   "execution_count": 11,
   "metadata": {
    "scrolled": true
   },
   "outputs": [
    {
     "data": {
      "text/plain": [
       "['a',\n",
       " 'aa',\n",
       " 'aaa',\n",
       " 'aaaa',\n",
       " 'aaad',\n",
       " 'aaamyloidosis',\n",
       " 'aaar',\n",
       " 'aaas',\n",
       " 'aab',\n",
       " 'aabb',\n",
       " 'aabr',\n",
       " 'aabstract']"
      ]
     },
     "execution_count": 11,
     "metadata": {},
     "output_type": "execute_result"
    }
   ],
   "source": [
    "data[:12]"
   ]
  },
  {
   "cell_type": "markdown",
   "metadata": {},
   "source": [
    "## Task 4\n",
    "### q4 = create a tuple set of all the records avaialble in all the five file and then store it in sqllite DB .\n",
    "### (aah,>=,354,fdsf,wer)"
   ]
  },
  {
   "cell_type": "code",
   "execution_count": 12,
   "metadata": {},
   "outputs": [],
   "source": [
    "def collect_data(file):\n",
    "    logger.info(\"Enter Task 4 collect_data module\")\n",
    "    file_list=[]\n",
    "    try:\n",
    "        f=open(file,mode='r',encoding=\"utf8\")\n",
    "        for row in f:\n",
    "            file_list.append(row)\n",
    "    \n",
    "    except Exception as e:\n",
    "        logger.error(\"Error in reading file :\",str(e))\n",
    "        f.close()\n",
    "        \n",
    "    else:\n",
    "        logger.info(\"File Reading successful in {0}\".format(file))\n",
    "        f.close()\n",
    "        return file_list\n",
    "            "
   ]
  },
  {
   "cell_type": "code",
   "execution_count": 13,
   "metadata": {},
   "outputs": [],
   "source": [
    "f1=collect_data('vocab.enron.txt')\n",
    "f2=collect_data('vocab.kos.txt')\n",
    "f3=collect_data('vocab.nips.txt')\n",
    "f4=collect_data('vocab.nytimes.txt')\n",
    "f5=collect_data('vocab.pubmed.txt')"
   ]
  },
  {
   "cell_type": "code",
   "execution_count": 14,
   "metadata": {},
   "outputs": [],
   "source": [
    "final_list=list(zip(f1,f2,f3,f4,f5))"
   ]
  },
  {
   "cell_type": "code",
   "execution_count": 15,
   "metadata": {},
   "outputs": [
    {
     "data": {
      "text/plain": [
       "[('aaa\\n', 'aarp\\n', 'a2i\\n', 'aah\\n', '>=\\n'),\n",
       " ('aaas\\n', 'abandon\\n', 'aaa\\n', 'aahed\\n', '>>\\n'),\n",
       " ('aactive\\n', 'abandoned\\n', 'aaai\\n', 'aaron\\n', '>>>\\n'),\n",
       " ('aadvantage\\n', 'abandoning\\n', 'aapo\\n', 'aback\\n', '>/=\\n'),\n",
       " ('aaker\\n', 'abb\\n', 'aat\\n', 'abacus\\n', '->\\n'),\n",
       " ('aap\\n', 'abc\\n', 'aazhang\\n', 'abajo\\n', '--\\n'),\n",
       " ('aapg\\n', 'abcs\\n', 'abandonment\\n', 'abalone\\n', '-->\\n'),\n",
       " ('aaron\\n', 'abdullah\\n', 'abbott\\n', 'abandon\\n', '-/-\\n'),\n",
       " ('aarp\\n', 'ability\\n', 'abbreviated\\n', 'abandoned\\n', '-/+\\n'),\n",
       " ('aas\\n', 'aboard\\n', 'abcde\\n', 'abandoning\\n', '/-\\n')]"
      ]
     },
     "execution_count": 15,
     "metadata": {},
     "output_type": "execute_result"
    }
   ],
   "source": [
    "final_list[:10]"
   ]
  },
  {
   "cell_type": "code",
   "execution_count": 16,
   "metadata": {},
   "outputs": [],
   "source": [
    "#dump into databse\n",
    "import sqlite3"
   ]
  },
  {
   "cell_type": "code",
   "execution_count": 17,
   "metadata": {},
   "outputs": [],
   "source": [
    "try:\n",
    "    db = sqlite3.connect('word_database.db')\n",
    "    logger.info('Database Created: ' +  str(db))\n",
    "    cursor = db.cursor()\n",
    "    query = \"CREATE TABLE main_table(file1 text, file2 text, file3 text, file4 text, file5 text)\"\n",
    "    cursor.execute(query)\n",
    "\n",
    "    record_count = 0 \n",
    "    for record in final_list:\n",
    "        query = \"INSERT INTO main_table VALUES {}\".format(tuple(record))\n",
    "        cursor.execute(query)\n",
    "        record_count += 1\n",
    "        \n",
    "    db.commit()\n",
    "    \n",
    "    logger.info('Total records inserted: ' +  str(record_count))\n",
    "        \n",
    "except Exception as e:\n",
    "    logger.error('Error: ' + str(e))\n",
    "\n",
    "finally:\n",
    "    db.close()"
   ]
  },
  {
   "cell_type": "code",
   "execution_count": 18,
   "metadata": {},
   "outputs": [],
   "source": [
    "db = sqlite3.connect('word_database.db')\n",
    "cursor = db.cursor()"
   ]
  },
  {
   "cell_type": "code",
   "execution_count": 19,
   "metadata": {},
   "outputs": [
    {
     "name": "stdout",
     "output_type": "stream",
     "text": [
      "('aaa\\\\n', 'aarp\\\\n', 'a2i\\\\n', 'aah\\\\n', '>=\\\\n')\n",
      "('aaas\\\\n', 'abandon\\\\n', 'aaa\\\\n', 'aahed\\\\n', '>>\\\\n')\n",
      "('aactive\\\\n', 'abandoned\\\\n', 'aaai\\\\n', 'aaron\\\\n', '>>>\\\\n')\n",
      "('aadvantage\\\\n', 'abandoning\\\\n', 'aapo\\\\n', 'aback\\\\n', '>/=\\\\n')\n",
      "('aaker\\\\n', 'abb\\\\n', 'aat\\\\n', 'abacus\\\\n', '->\\\\n')\n",
      "('aap\\\\n', 'abc\\\\n', 'aazhang\\\\n', 'abajo\\\\n', '--\\\\n')\n",
      "('aapg\\\\n', 'abcs\\\\n', 'abandonment\\\\n', 'abalone\\\\n', '-->\\\\n')\n",
      "('aaron\\\\n', 'abdullah\\\\n', 'abbott\\\\n', 'abandon\\\\n', '-/-\\\\n')\n",
      "('aarp\\\\n', 'ability\\\\n', 'abbreviated\\\\n', 'abandoned\\\\n', '-/+\\\\n')\n",
      "('aas\\\\n', 'aboard\\\\n', 'abcde\\\\n', 'abandoning\\\\n', '/-\\\\n')\n",
      "('aau\\\\n', 'abortion\\\\n', 'abe\\\\n', 'abandonment\\\\n', '/+-\\\\n')\n",
      "('ab1890\\\\n', 'abortions\\\\n', 'abeles\\\\n', 'abandono\\\\n', '..\\\\n')\n",
      "('ab1x\\\\n', 'abraham\\\\n', 'abi\\\\n', 'abarnard\\\\n', '...\\\\n')\n",
      "('ab31x\\\\n', 'abrams\\\\n', 'abilistic\\\\n', 'abashed\\\\n', '+-\\\\n')\n",
      "('aba\\\\n', 'abroad\\\\n', 'abilities\\\\n', 'abate\\\\n', '+/\\\\n')\n",
      "('abacus\\\\n', 'absence\\\\n', 'ability\\\\n', 'abated\\\\n', '+/--\\\\n')\n",
      "('abag\\\\n', 'absent\\\\n', 'abl\\\\n', 'abatement\\\\n', '+/?\\\\n')\n",
      "('abalone\\\\n', 'absentee\\\\n', 'able\\\\n', 'abating\\\\n', '+/+\\\\n')\n",
      "('abandon\\\\n', 'absolute\\\\n', 'ables\\\\n', 'abbey\\\\n', '++\\\\n')\n",
      "('abandoned\\\\n', 'absolutely\\\\n', 'ablex\\\\n', 'abbot\\\\n', '+++\\\\n')\n"
     ]
    }
   ],
   "source": [
    "data = cursor.execute(\"select * from main_table limit 20\")\n",
    "for i in data:\n",
    "    print(i)"
   ]
  },
  {
   "attachments": {
    "image.png": {
     "image/png": "[encoded data removed]"
    }
   },
   "cell_type": "markdown",
   "metadata": {},
   "source": [
    "## Log File View\n",
    "![image.png](attachment:image.png)"
   ]
  },
  {
   "cell_type": "code",
   "execution_count": null,
   "metadata": {},
   "outputs": [],
   "source": []
  }
 ],
 "metadata": {
  "kernelspec": {
   "display_name": "Python 3",
   "language": "python",
   "name": "python3"
  },
  "language_info": {
   "codemirror_mode": {
    "name": "ipython",
    "version": 3
   },
   "file_extension": ".py",
   "mimetype": "text/x-python",
   "name": "python",
   "nbconvert_exporter": "python",
   "pygments_lexer": "ipython3",
   "version": "3.7.6"
  }
 },
 "nbformat": 4,
 "nbformat_minor": 4
}
